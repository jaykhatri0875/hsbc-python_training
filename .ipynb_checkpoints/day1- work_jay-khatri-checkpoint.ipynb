{
 "cells": [
  {
   "cell_type": "code",
   "execution_count": 1,
   "metadata": {},
   "outputs": [
    {
     "name": "stdout",
     "output_type": "stream",
     "text": [
      "C:\\Users\\Dell\\Desktop\\hsbc-python\\datasets\\hsbc-project\n"
     ]
    }
   ],
   "source": [
    "import os\n",
    "%cd C:\\Users\\Dell\\Desktop\\hsbc-python\\datasets\\hsbc-project"
   ]
  },
  {
   "cell_type": "code",
   "execution_count": 2,
   "metadata": {},
   "outputs": [],
   "source": [
    "import pandas as pd\n",
    "import numpy as np\n",
    "import matplotlib.pyplot as plt\n",
    "%matplotlib inline"
   ]
  },
  {
   "cell_type": "code",
   "execution_count": 6,
   "metadata": {
    "scrolled": false
   },
   "outputs": [
    {
     "name": "stdout",
     "output_type": "stream",
     "text": [
      "[20, 21, 22, 23, 24, 25, 26, 27, 28, 29, 30, 31, 32, 33, 34, 35, 36, 37, 38, 39]\n",
      "[28, 29, 30, 31]\n"
     ]
    }
   ],
   "source": [
    "numlist = range(20,40)\n",
    "print(list(numlist))\n",
    "editlist = numlist[8:12]\n",
    "print(list(editlist))"
   ]
  },
  {
   "cell_type": "code",
   "execution_count": 12,
   "metadata": {},
   "outputs": [
    {
     "name": "stdout",
     "output_type": "stream",
     "text": [
      "1\n"
     ]
    }
   ],
   "source": [
    "sampledict = {\"male\":1,\"female\":0}\n",
    "print(sampledict[\"male\"])"
   ]
  },
  {
   "cell_type": "code",
   "execution_count": 11,
   "metadata": {},
   "outputs": [
    {
     "name": "stdout",
     "output_type": "stream",
     "text": [
      "python is a object oriented programming language\n",
      "PYTHON IS A OBJECT ORIENTED PROGRAMMING LANGUAGE\n",
      "['python', 'is', 'a', 'Object', 'Oriented', 'Programming', 'language']\n"
     ]
    }
   ],
   "source": [
    "string1 =\"python is a Object Oriented Programming language\"\n",
    "\n",
    "lowerstr = string1.lower()\n",
    "upperstr= string1.upper()\n",
    "split = string1.split()\n",
    "print(lowerstr)\n",
    "print(upperstr)\n",
    "print(split)\n",
    "\n",
    "tuple1 = ('a','b','c','d','e','f','g')"
   ]
  },
  {
   "cell_type": "code",
   "execution_count": 44,
   "metadata": {},
   "outputs": [
    {
     "name": "stdout",
     "output_type": "stream",
     "text": [
      "True\n"
     ]
    }
   ],
   "source": [
    "isprime = lambda x:[x % i == 0 for i in range(2,int(x // 2)+1)].count(True) == 0\n",
    "\n",
    "print(isprime(17))"
   ]
  },
  {
   "cell_type": "code",
   "execution_count": 15,
   "metadata": {},
   "outputs": [
    {
     "name": "stdout",
     "output_type": "stream",
     "text": [
      "name is  jay age is  20 gender :  male\n"
     ]
    }
   ],
   "source": [
    "class Employee:\n",
    "    def __init__(self,name,age,gender):\n",
    "        self.name=name\n",
    "        self.age=age\n",
    "        self.gender=gender\n",
    "    def printdetails(self):\n",
    "        print(\"name is \",self.name,\"age is \",self.age,\"gender \",self.gender)\n",
    "        \n",
    "        \n",
    "emp1=Employee(\"jay\",20,\"male\")\n",
    "emp1.printdetails()"
   ]
  },
  {
   "cell_type": "code",
   "execution_count": null,
   "metadata": {},
   "outputs": [],
   "source": []
  }
 ],
 "metadata": {
  "kernelspec": {
   "display_name": "Python 3",
   "language": "python",
   "name": "python3"
  },
  "language_info": {
   "codemirror_mode": {
    "name": "ipython",
    "version": 3
   },
   "file_extension": ".py",
   "mimetype": "text/x-python",
   "name": "python",
   "nbconvert_exporter": "python",
   "pygments_lexer": "ipython3",
   "version": "3.8.3"
  }
 },
 "nbformat": 4,
 "nbformat_minor": 4
}
