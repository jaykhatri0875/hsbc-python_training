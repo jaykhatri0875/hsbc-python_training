{
 "cells": [
  {
   "cell_type": "code",
   "execution_count": 1,
   "metadata": {},
   "outputs": [],
   "source": [
    "# this is jupyter notebook"
   ]
  },
  {
   "cell_type": "code",
   "execution_count": 2,
   "metadata": {},
   "outputs": [
    {
     "name": "stdout",
     "output_type": "stream",
     "text": [
      "C:\\Users\\Dell\\Desktop\\hsbc-python\n"
     ]
    }
   ],
   "source": [
    "import os\n",
    "%cd C:\\Users\\Dell\\Desktop\\hsbc-python"
   ]
  },
  {
   "cell_type": "code",
   "execution_count": 1,
   "metadata": {},
   "outputs": [
    {
     "name": "stdout",
     "output_type": "stream",
     "text": [
      "1\n",
      "1.1\n",
      "1j\n"
     ]
    }
   ],
   "source": [
    "x=1 #int \n",
    "y=1.1 # float\n",
    "z=1j #complex\n",
    "print(x)\n",
    "print(y)\n",
    "print(z)"
   ]
  },
  {
   "cell_type": "code",
   "execution_count": 2,
   "metadata": {},
   "outputs": [
    {
     "data": {
      "text/plain": [
       "complex"
      ]
     },
     "execution_count": 2,
     "metadata": {},
     "output_type": "execute_result"
    }
   ],
   "source": [
    "type(z)"
   ]
  },
  {
   "cell_type": "code",
   "execution_count": 3,
   "metadata": {},
   "outputs": [],
   "source": [
    "#type returns type of variable\n",
    "#every function will have paranthesis \n",
    "#coversions\n"
   ]
  },
  {
   "cell_type": "code",
   "execution_count": 6,
   "metadata": {},
   "outputs": [
    {
     "name": "stdout",
     "output_type": "stream",
     "text": [
      "[12, 23, 34343, 4546, 65, 76, 7, 12]\n",
      "['a', 'b', 'c', 'd']\n",
      "[True, False, True]\n"
     ]
    }
   ],
   "source": [
    "#lists\n",
    "#list is collection of ordered and mutable appendable array \n",
    "#allows duplicates, starts with [] & items seperated bycomma\n",
    "#append list - append()\n",
    "#insert at location - insert(index,value)\n",
    "#remove and pop only for lists and sets\n",
    "numlist = [12,23,34343,4546,65,76,7,12]\n",
    "charlist = ['a','b','c','d']\n",
    "boollist = [True,False,True]\n",
    "print(numlist)\n",
    "print(charlist)\n",
    "print(boollist)"
   ]
  },
  {
   "cell_type": "code",
   "execution_count": 7,
   "metadata": {},
   "outputs": [
    {
     "name": "stdout",
     "output_type": "stream",
     "text": [
      "[23, 34343]\n"
     ]
    }
   ],
   "source": [
    "#indexing - selection or subsetting \n",
    "#last element of list is accessed by -1\n",
    "#slicing [index1:index2]\n",
    "print(numlist[1:3])"
   ]
  },
  {
   "cell_type": "code",
   "execution_count": 8,
   "metadata": {},
   "outputs": [
    {
     "name": "stdout",
     "output_type": "stream",
     "text": [
      "(1, 3, 4, 5)\n"
     ]
    }
   ],
   "source": [
    "#tuples \n",
    "\n",
    "#cant add into tuple\n",
    "#to append convert tuple into list and do operations'\n",
    "#and convert again to tuple\n",
    "\n",
    "tup1 = (1,3,4,5)\n",
    "\n",
    "print(tup1)"
   ]
  },
  {
   "cell_type": "code",
   "execution_count": 9,
   "metadata": {},
   "outputs": [
    {
     "name": "stdout",
     "output_type": "stream",
     "text": [
      "3\n"
     ]
    }
   ],
   "source": [
    "print(tup1[1]) #indexing same as lists"
   ]
  },
  {
   "cell_type": "code",
   "execution_count": 10,
   "metadata": {},
   "outputs": [
    {
     "name": "stdout",
     "output_type": "stream",
     "text": [
      "{'orange', 'banana', 'apple'}\n"
     ]
    }
   ],
   "source": [
    "#sets\n",
    "#set is collection of unordered and unindexed withoi\n",
    "#duplicates Starts with {}\n",
    "\n",
    "fruits = {\"apple\",\"banana\",\"orange\"}\n",
    "print(fruits)"
   ]
  },
  {
   "cell_type": "code",
   "execution_count": 11,
   "metadata": {},
   "outputs": [
    {
     "ename": "TypeError",
     "evalue": "'set' object is not subscriptable",
     "output_type": "error",
     "traceback": [
      "\u001b[1;31m---------------------------------------------------------------------------\u001b[0m",
      "\u001b[1;31mTypeError\u001b[0m                                 Traceback (most recent call last)",
      "\u001b[1;32m<ipython-input-11-ee10bef72448>\u001b[0m in \u001b[0;36m<module>\u001b[1;34m\u001b[0m\n\u001b[1;32m----> 1\u001b[1;33m \u001b[0mfruits\u001b[0m\u001b[1;33m[\u001b[0m\u001b[1;36m1\u001b[0m\u001b[1;33m]\u001b[0m\u001b[1;33m\u001b[0m\u001b[1;33m\u001b[0m\u001b[0m\n\u001b[0m",
      "\u001b[1;31mTypeError\u001b[0m: 'set' object is not subscriptable"
     ]
    }
   ],
   "source": [
    "fruits[1]"
   ]
  },
  {
   "cell_type": "code",
   "execution_count": 14,
   "metadata": {},
   "outputs": [
    {
     "name": "stdout",
     "output_type": "stream",
     "text": [
      "{'orange', 'banana', 'apple'}\n",
      "{'orange', 'dragon', 'banana', 'apple'}\n"
     ]
    }
   ],
   "source": [
    "# update or add sets but cant access\n",
    "\n",
    "fruits.add(\"apple\")\n",
    "print(fruits)\n",
    "fruits.add(\"dragon\")\n",
    "print(fruits)"
   ]
  },
  {
   "cell_type": "code",
   "execution_count": 18,
   "metadata": {},
   "outputs": [
    {
     "name": "stdout",
     "output_type": "stream",
     "text": [
      "{'model': 'mustang', 'year': 1999}\n"
     ]
    }
   ],
   "source": [
    "#mapping type - Dictionary - dict{} \n",
    "#unordered, appendable & indexed\n",
    "dict1 = {\"model\":'mustang',\"year\":1999}\n",
    "print(dict1)"
   ]
  },
  {
   "cell_type": "code",
   "execution_count": 19,
   "metadata": {},
   "outputs": [
    {
     "data": {
      "text/plain": [
       "'mustang'"
      ]
     },
     "execution_count": 19,
     "metadata": {},
     "output_type": "execute_result"
    }
   ],
   "source": [
    "dict1.get(\"model\")\n"
   ]
  },
  {
   "cell_type": "code",
   "execution_count": null,
   "metadata": {},
   "outputs": [],
   "source": [
    "#clear - empties set and empties list\n",
    "#looping is allowed for lists \n",
    "# tuples & dicts not allowed"
   ]
  }
 ],
 "metadata": {
  "kernelspec": {
   "display_name": "Python 3",
   "language": "python",
   "name": "python3"
  },
  "language_info": {
   "codemirror_mode": {
    "name": "ipython",
    "version": 3
   },
   "file_extension": ".py",
   "mimetype": "text/x-python",
   "name": "python",
   "nbconvert_exporter": "python",
   "pygments_lexer": "ipython3",
   "version": "3.8.3"
  }
 },
 "nbformat": 4,
 "nbformat_minor": 2
}
